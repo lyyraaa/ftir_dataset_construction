{
 "cells": [
  {
   "cell_type": "code",
   "execution_count": 1,
   "id": "initial_id",
   "metadata": {
    "collapsed": true,
    "ExecuteTime": {
     "end_time": "2024-10-15T13:31:06.211513700Z",
     "start_time": "2024-10-15T13:31:05.566009200Z"
    }
   },
   "outputs": [],
   "source": [
    "from matplotlib import pyplot as plt\n",
    "import numpy as np"
   ]
  },
  {
   "cell_type": "code",
   "outputs": [],
   "source": [
    "all_spectra = np.load(r'C:/Users/w37262do/Documents/git/lbp_3d/data/all_transformed_spectra.npy')\n",
    "wavenumbers = np.load(r'C:/Users/w37262do/Documents/git/lbp_3d/data/wavenumbers_dougal1_2nd.npy')"
   ],
   "metadata": {
    "collapsed": false,
    "ExecuteTime": {
     "end_time": "2024-10-15T13:34:05.489096900Z",
     "start_time": "2024-10-15T13:34:05.146134Z"
    }
   },
   "id": "4bf61f117ed57a16",
   "execution_count": 3
  },
  {
   "cell_type": "code",
   "outputs": [],
   "source": [
    "mean_spectrum = np.mean(all_spectra, axis=0)\n",
    "std_spectrum = np.std(all_spectra, axis=0)"
   ],
   "metadata": {
    "collapsed": false,
    "ExecuteTime": {
     "end_time": "2024-10-15T13:34:07.298478800Z",
     "start_time": "2024-10-15T13:34:07.105234900Z"
    }
   },
   "id": "deb1b1f1801b2608",
   "execution_count": 4
  },
  {
   "cell_type": "code",
   "outputs": [],
   "source": [
    "np.save(\"D:/datasets/mean_spectrum.npy\",mean_spectrum,)\n",
    "np.save(\"D:/datasets/std_spectrum.npy\",std_spectrum,)\n",
    "np.save(\"D:/datasets/wavenumbers.npy\",wavenumbers,)"
   ],
   "metadata": {
    "collapsed": false,
    "ExecuteTime": {
     "end_time": "2024-10-15T13:34:17.451604400Z",
     "start_time": "2024-10-15T13:34:16.911258700Z"
    }
   },
   "id": "4d9312201773b2eb",
   "execution_count": 6
  }
 ],
 "metadata": {
  "kernelspec": {
   "display_name": "Python 3",
   "language": "python",
   "name": "python3"
  },
  "language_info": {
   "codemirror_mode": {
    "name": "ipython",
    "version": 2
   },
   "file_extension": ".py",
   "mimetype": "text/x-python",
   "name": "python",
   "nbconvert_exporter": "python",
   "pygments_lexer": "ipython2",
   "version": "2.7.6"
  }
 },
 "nbformat": 4,
 "nbformat_minor": 5
}
